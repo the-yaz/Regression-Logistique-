{
  "nbformat": 4,
  "nbformat_minor": 0,
  "metadata": {
    "colab": {
      "name": "prétraitement_pauvreté.ipynb",
      "provenance": [],
      "collapsed_sections": []
    },
    "kernelspec": {
      "name": "python3",
      "display_name": "Python 3"
    }
  },
  "cells": [
    {
      "cell_type": "markdown",
      "metadata": {
        "id": "37puETfgRzzg"
      },
      "source": [
        "# Outils de prétraitement des données\n",
        "\n"
      ]
    },
    {
      "cell_type": "markdown",
      "metadata": {
        "id": "EoRP98MpR-qj"
      },
      "source": [
        "## Importation des libraries"
      ]
    },
    {
      "cell_type": "code",
      "metadata": {
        "id": "N-qiINBQSK2g"
      },
      "source": [
        "import numpy as np\n",
        "import matplotlib.pyplot as plt\n",
        "import pandas as pd"
      ],
      "execution_count": null,
      "outputs": []
    },
    {
      "cell_type": "markdown",
      "metadata": {
        "id": "RopL7tUZSQkT"
      },
      "source": [
        "## Importation du dataset"
      ]
    },
    {
      "cell_type": "code",
      "metadata": {
        "id": "WwEPNDWySTKm"
      },
      "source": [
        "dataset = pd.read_csv(\"/content/impactpauv.csv\", encoding=('ISO-8859-1'))"
      ],
      "execution_count": null,
      "outputs": []
    },
    {
      "cell_type": "code",
      "source": [
        "display(dataset)"
      ],
      "metadata": {
        "colab": {
          "base_uri": "https://localhost:8080/",
          "height": 487
        },
        "id": "7dqderu9f8oc",
        "outputId": "90e74a51-f26e-4edb-f857-5d647831623d"
      },
      "execution_count": null,
      "outputs": [
        {
          "output_type": "display_data",
          "data": {
            "text/plain": [
              "      milieu  taille  pauvre  sexecm  agecm  diplômcm  cmanalphabe  cmalphabe  \\\n",
              "0          1       5       2       1     44    3210.0            0          0   \n",
              "1          1       6       2       1     48       NaN            0          0   \n",
              "2          1       4       2       1     62       NaN            0          0   \n",
              "3          1       2       2       0     33    2120.0            0          0   \n",
              "4          1       2       2       1     34       NaN            0          0   \n",
              "...      ...     ...     ...     ...    ...       ...          ...        ...   \n",
              "4875       2       9       1       1     42       NaN            0          1   \n",
              "4876       2       7       2       1     48       NaN            0          1   \n",
              "4877       2       9       2       1     34       NaN            0          1   \n",
              "4878       2      13       2       1     38       NaN            1          0   \n",
              "4879       2       5       2       1     35       NaN            1          0   \n",
              "\n",
              "      cm_prim  cm_coll  ...  cscm  typlog  nbpiece  stocp  deptot  region  \\\n",
              "0           0        0  ...     1       1        3      3   58422       1   \n",
              "1           0        0  ...     0       1        3      3   49860       1   \n",
              "2           0        1  ...     1       1        4      3   83743       1   \n",
              "3           0        0  ...     0       1        3      1  148953       1   \n",
              "4           0        0  ...     0       3        6      1  304798       1   \n",
              "...       ...      ...  ...   ...     ...      ...    ...     ...     ...   \n",
              "4875        0        0  ...     0       6        2      1   36371       8   \n",
              "4876        0        0  ...     0       6        3      1   19266       8   \n",
              "4877        0        0  ...     0       6        2      1   34710       8   \n",
              "4878        0        0  ...     0       6        4      1   10771       8   \n",
              "4879        0        0  ...     0       6        2      7   32711       8   \n",
              "\n",
              "         coeffmen  ident   trmo          deppc  \n",
              "0     1365.000000      1    0.0   11684.400391  \n",
              "1     1164.800049      2    0.0    8310.000000  \n",
              "2     1365.000000      3    0.0   20935.750000  \n",
              "3     1589.900024      4  221.0   74476.500000  \n",
              "4     1365.000000      5   78.0  152399.000000  \n",
              "...           ...    ...    ...            ...  \n",
              "4875  1584.699951   4876    0.0    4041.222168  \n",
              "4876  1584.699951   4877    0.0    2752.285645  \n",
              "4877  1584.699951   4878    0.0    3856.666748  \n",
              "4878  1159.599976   4879    0.0     828.538452  \n",
              "4879  1584.699951   4880    0.0    6542.200195  \n",
              "\n",
              "[4880 rows x 24 columns]"
            ],
            "text/html": [
              "\n",
              "  <div id=\"df-85f7aa1e-b442-4c64-9363-d4ae5d7c9073\">\n",
              "    <div class=\"colab-df-container\">\n",
              "      <div>\n",
              "<style scoped>\n",
              "    .dataframe tbody tr th:only-of-type {\n",
              "        vertical-align: middle;\n",
              "    }\n",
              "\n",
              "    .dataframe tbody tr th {\n",
              "        vertical-align: top;\n",
              "    }\n",
              "\n",
              "    .dataframe thead th {\n",
              "        text-align: right;\n",
              "    }\n",
              "</style>\n",
              "<table border=\"1\" class=\"dataframe\">\n",
              "  <thead>\n",
              "    <tr style=\"text-align: right;\">\n",
              "      <th></th>\n",
              "      <th>milieu</th>\n",
              "      <th>taille</th>\n",
              "      <th>pauvre</th>\n",
              "      <th>sexecm</th>\n",
              "      <th>agecm</th>\n",
              "      <th>diplômcm</th>\n",
              "      <th>cmanalphabe</th>\n",
              "      <th>cmalphabe</th>\n",
              "      <th>cm_prim</th>\n",
              "      <th>cm_coll</th>\n",
              "      <th>...</th>\n",
              "      <th>cscm</th>\n",
              "      <th>typlog</th>\n",
              "      <th>nbpiece</th>\n",
              "      <th>stocp</th>\n",
              "      <th>deptot</th>\n",
              "      <th>region</th>\n",
              "      <th>coeffmen</th>\n",
              "      <th>ident</th>\n",
              "      <th>trmo</th>\n",
              "      <th>deppc</th>\n",
              "    </tr>\n",
              "  </thead>\n",
              "  <tbody>\n",
              "    <tr>\n",
              "      <th>0</th>\n",
              "      <td>1</td>\n",
              "      <td>5</td>\n",
              "      <td>2</td>\n",
              "      <td>1</td>\n",
              "      <td>44</td>\n",
              "      <td>3210.0</td>\n",
              "      <td>0</td>\n",
              "      <td>0</td>\n",
              "      <td>0</td>\n",
              "      <td>0</td>\n",
              "      <td>...</td>\n",
              "      <td>1</td>\n",
              "      <td>1</td>\n",
              "      <td>3</td>\n",
              "      <td>3</td>\n",
              "      <td>58422</td>\n",
              "      <td>1</td>\n",
              "      <td>1365.000000</td>\n",
              "      <td>1</td>\n",
              "      <td>0.0</td>\n",
              "      <td>11684.400391</td>\n",
              "    </tr>\n",
              "    <tr>\n",
              "      <th>1</th>\n",
              "      <td>1</td>\n",
              "      <td>6</td>\n",
              "      <td>2</td>\n",
              "      <td>1</td>\n",
              "      <td>48</td>\n",
              "      <td>NaN</td>\n",
              "      <td>0</td>\n",
              "      <td>0</td>\n",
              "      <td>0</td>\n",
              "      <td>0</td>\n",
              "      <td>...</td>\n",
              "      <td>0</td>\n",
              "      <td>1</td>\n",
              "      <td>3</td>\n",
              "      <td>3</td>\n",
              "      <td>49860</td>\n",
              "      <td>1</td>\n",
              "      <td>1164.800049</td>\n",
              "      <td>2</td>\n",
              "      <td>0.0</td>\n",
              "      <td>8310.000000</td>\n",
              "    </tr>\n",
              "    <tr>\n",
              "      <th>2</th>\n",
              "      <td>1</td>\n",
              "      <td>4</td>\n",
              "      <td>2</td>\n",
              "      <td>1</td>\n",
              "      <td>62</td>\n",
              "      <td>NaN</td>\n",
              "      <td>0</td>\n",
              "      <td>0</td>\n",
              "      <td>0</td>\n",
              "      <td>1</td>\n",
              "      <td>...</td>\n",
              "      <td>1</td>\n",
              "      <td>1</td>\n",
              "      <td>4</td>\n",
              "      <td>3</td>\n",
              "      <td>83743</td>\n",
              "      <td>1</td>\n",
              "      <td>1365.000000</td>\n",
              "      <td>3</td>\n",
              "      <td>0.0</td>\n",
              "      <td>20935.750000</td>\n",
              "    </tr>\n",
              "    <tr>\n",
              "      <th>3</th>\n",
              "      <td>1</td>\n",
              "      <td>2</td>\n",
              "      <td>2</td>\n",
              "      <td>0</td>\n",
              "      <td>33</td>\n",
              "      <td>2120.0</td>\n",
              "      <td>0</td>\n",
              "      <td>0</td>\n",
              "      <td>0</td>\n",
              "      <td>0</td>\n",
              "      <td>...</td>\n",
              "      <td>0</td>\n",
              "      <td>1</td>\n",
              "      <td>3</td>\n",
              "      <td>1</td>\n",
              "      <td>148953</td>\n",
              "      <td>1</td>\n",
              "      <td>1589.900024</td>\n",
              "      <td>4</td>\n",
              "      <td>221.0</td>\n",
              "      <td>74476.500000</td>\n",
              "    </tr>\n",
              "    <tr>\n",
              "      <th>4</th>\n",
              "      <td>1</td>\n",
              "      <td>2</td>\n",
              "      <td>2</td>\n",
              "      <td>1</td>\n",
              "      <td>34</td>\n",
              "      <td>NaN</td>\n",
              "      <td>0</td>\n",
              "      <td>0</td>\n",
              "      <td>0</td>\n",
              "      <td>0</td>\n",
              "      <td>...</td>\n",
              "      <td>0</td>\n",
              "      <td>3</td>\n",
              "      <td>6</td>\n",
              "      <td>1</td>\n",
              "      <td>304798</td>\n",
              "      <td>1</td>\n",
              "      <td>1365.000000</td>\n",
              "      <td>5</td>\n",
              "      <td>78.0</td>\n",
              "      <td>152399.000000</td>\n",
              "    </tr>\n",
              "    <tr>\n",
              "      <th>...</th>\n",
              "      <td>...</td>\n",
              "      <td>...</td>\n",
              "      <td>...</td>\n",
              "      <td>...</td>\n",
              "      <td>...</td>\n",
              "      <td>...</td>\n",
              "      <td>...</td>\n",
              "      <td>...</td>\n",
              "      <td>...</td>\n",
              "      <td>...</td>\n",
              "      <td>...</td>\n",
              "      <td>...</td>\n",
              "      <td>...</td>\n",
              "      <td>...</td>\n",
              "      <td>...</td>\n",
              "      <td>...</td>\n",
              "      <td>...</td>\n",
              "      <td>...</td>\n",
              "      <td>...</td>\n",
              "      <td>...</td>\n",
              "      <td>...</td>\n",
              "    </tr>\n",
              "    <tr>\n",
              "      <th>4875</th>\n",
              "      <td>2</td>\n",
              "      <td>9</td>\n",
              "      <td>1</td>\n",
              "      <td>1</td>\n",
              "      <td>42</td>\n",
              "      <td>NaN</td>\n",
              "      <td>0</td>\n",
              "      <td>1</td>\n",
              "      <td>0</td>\n",
              "      <td>0</td>\n",
              "      <td>...</td>\n",
              "      <td>0</td>\n",
              "      <td>6</td>\n",
              "      <td>2</td>\n",
              "      <td>1</td>\n",
              "      <td>36371</td>\n",
              "      <td>8</td>\n",
              "      <td>1584.699951</td>\n",
              "      <td>4876</td>\n",
              "      <td>0.0</td>\n",
              "      <td>4041.222168</td>\n",
              "    </tr>\n",
              "    <tr>\n",
              "      <th>4876</th>\n",
              "      <td>2</td>\n",
              "      <td>7</td>\n",
              "      <td>2</td>\n",
              "      <td>1</td>\n",
              "      <td>48</td>\n",
              "      <td>NaN</td>\n",
              "      <td>0</td>\n",
              "      <td>1</td>\n",
              "      <td>0</td>\n",
              "      <td>0</td>\n",
              "      <td>...</td>\n",
              "      <td>0</td>\n",
              "      <td>6</td>\n",
              "      <td>3</td>\n",
              "      <td>1</td>\n",
              "      <td>19266</td>\n",
              "      <td>8</td>\n",
              "      <td>1584.699951</td>\n",
              "      <td>4877</td>\n",
              "      <td>0.0</td>\n",
              "      <td>2752.285645</td>\n",
              "    </tr>\n",
              "    <tr>\n",
              "      <th>4877</th>\n",
              "      <td>2</td>\n",
              "      <td>9</td>\n",
              "      <td>2</td>\n",
              "      <td>1</td>\n",
              "      <td>34</td>\n",
              "      <td>NaN</td>\n",
              "      <td>0</td>\n",
              "      <td>1</td>\n",
              "      <td>0</td>\n",
              "      <td>0</td>\n",
              "      <td>...</td>\n",
              "      <td>0</td>\n",
              "      <td>6</td>\n",
              "      <td>2</td>\n",
              "      <td>1</td>\n",
              "      <td>34710</td>\n",
              "      <td>8</td>\n",
              "      <td>1584.699951</td>\n",
              "      <td>4878</td>\n",
              "      <td>0.0</td>\n",
              "      <td>3856.666748</td>\n",
              "    </tr>\n",
              "    <tr>\n",
              "      <th>4878</th>\n",
              "      <td>2</td>\n",
              "      <td>13</td>\n",
              "      <td>2</td>\n",
              "      <td>1</td>\n",
              "      <td>38</td>\n",
              "      <td>NaN</td>\n",
              "      <td>1</td>\n",
              "      <td>0</td>\n",
              "      <td>0</td>\n",
              "      <td>0</td>\n",
              "      <td>...</td>\n",
              "      <td>0</td>\n",
              "      <td>6</td>\n",
              "      <td>4</td>\n",
              "      <td>1</td>\n",
              "      <td>10771</td>\n",
              "      <td>8</td>\n",
              "      <td>1159.599976</td>\n",
              "      <td>4879</td>\n",
              "      <td>0.0</td>\n",
              "      <td>828.538452</td>\n",
              "    </tr>\n",
              "    <tr>\n",
              "      <th>4879</th>\n",
              "      <td>2</td>\n",
              "      <td>5</td>\n",
              "      <td>2</td>\n",
              "      <td>1</td>\n",
              "      <td>35</td>\n",
              "      <td>NaN</td>\n",
              "      <td>1</td>\n",
              "      <td>0</td>\n",
              "      <td>0</td>\n",
              "      <td>0</td>\n",
              "      <td>...</td>\n",
              "      <td>0</td>\n",
              "      <td>6</td>\n",
              "      <td>2</td>\n",
              "      <td>7</td>\n",
              "      <td>32711</td>\n",
              "      <td>8</td>\n",
              "      <td>1584.699951</td>\n",
              "      <td>4880</td>\n",
              "      <td>0.0</td>\n",
              "      <td>6542.200195</td>\n",
              "    </tr>\n",
              "  </tbody>\n",
              "</table>\n",
              "<p>4880 rows × 24 columns</p>\n",
              "</div>\n",
              "      <button class=\"colab-df-convert\" onclick=\"convertToInteractive('df-85f7aa1e-b442-4c64-9363-d4ae5d7c9073')\"\n",
              "              title=\"Convert this dataframe to an interactive table.\"\n",
              "              style=\"display:none;\">\n",
              "        \n",
              "  <svg xmlns=\"http://www.w3.org/2000/svg\" height=\"24px\"viewBox=\"0 0 24 24\"\n",
              "       width=\"24px\">\n",
              "    <path d=\"M0 0h24v24H0V0z\" fill=\"none\"/>\n",
              "    <path d=\"M18.56 5.44l.94 2.06.94-2.06 2.06-.94-2.06-.94-.94-2.06-.94 2.06-2.06.94zm-11 1L8.5 8.5l.94-2.06 2.06-.94-2.06-.94L8.5 2.5l-.94 2.06-2.06.94zm10 10l.94 2.06.94-2.06 2.06-.94-2.06-.94-.94-2.06-.94 2.06-2.06.94z\"/><path d=\"M17.41 7.96l-1.37-1.37c-.4-.4-.92-.59-1.43-.59-.52 0-1.04.2-1.43.59L10.3 9.45l-7.72 7.72c-.78.78-.78 2.05 0 2.83L4 21.41c.39.39.9.59 1.41.59.51 0 1.02-.2 1.41-.59l7.78-7.78 2.81-2.81c.8-.78.8-2.07 0-2.86zM5.41 20L4 18.59l7.72-7.72 1.47 1.35L5.41 20z\"/>\n",
              "  </svg>\n",
              "      </button>\n",
              "      \n",
              "  <style>\n",
              "    .colab-df-container {\n",
              "      display:flex;\n",
              "      flex-wrap:wrap;\n",
              "      gap: 12px;\n",
              "    }\n",
              "\n",
              "    .colab-df-convert {\n",
              "      background-color: #E8F0FE;\n",
              "      border: none;\n",
              "      border-radius: 50%;\n",
              "      cursor: pointer;\n",
              "      display: none;\n",
              "      fill: #1967D2;\n",
              "      height: 32px;\n",
              "      padding: 0 0 0 0;\n",
              "      width: 32px;\n",
              "    }\n",
              "\n",
              "    .colab-df-convert:hover {\n",
              "      background-color: #E2EBFA;\n",
              "      box-shadow: 0px 1px 2px rgba(60, 64, 67, 0.3), 0px 1px 3px 1px rgba(60, 64, 67, 0.15);\n",
              "      fill: #174EA6;\n",
              "    }\n",
              "\n",
              "    [theme=dark] .colab-df-convert {\n",
              "      background-color: #3B4455;\n",
              "      fill: #D2E3FC;\n",
              "    }\n",
              "\n",
              "    [theme=dark] .colab-df-convert:hover {\n",
              "      background-color: #434B5C;\n",
              "      box-shadow: 0px 1px 3px 1px rgba(0, 0, 0, 0.15);\n",
              "      filter: drop-shadow(0px 1px 2px rgba(0, 0, 0, 0.3));\n",
              "      fill: #FFFFFF;\n",
              "    }\n",
              "  </style>\n",
              "\n",
              "      <script>\n",
              "        const buttonEl =\n",
              "          document.querySelector('#df-85f7aa1e-b442-4c64-9363-d4ae5d7c9073 button.colab-df-convert');\n",
              "        buttonEl.style.display =\n",
              "          google.colab.kernel.accessAllowed ? 'block' : 'none';\n",
              "\n",
              "        async function convertToInteractive(key) {\n",
              "          const element = document.querySelector('#df-85f7aa1e-b442-4c64-9363-d4ae5d7c9073');\n",
              "          const dataTable =\n",
              "            await google.colab.kernel.invokeFunction('convertToInteractive',\n",
              "                                                     [key], {});\n",
              "          if (!dataTable) return;\n",
              "\n",
              "          const docLinkHtml = 'Like what you see? Visit the ' +\n",
              "            '<a target=\"_blank\" href=https://colab.research.google.com/notebooks/data_table.ipynb>data table notebook</a>'\n",
              "            + ' to learn more about interactive tables.';\n",
              "          element.innerHTML = '';\n",
              "          dataTable['output_type'] = 'display_data';\n",
              "          await google.colab.output.renderOutput(dataTable, element);\n",
              "          const docLink = document.createElement('div');\n",
              "          docLink.innerHTML = docLinkHtml;\n",
              "          element.appendChild(docLink);\n",
              "        }\n",
              "      </script>\n",
              "    </div>\n",
              "  </div>\n",
              "  "
            ]
          },
          "metadata": {}
        }
      ]
    },
    {
      "cell_type": "code",
      "source": [
        "dataset.drop(['diplômcm','cmanalphabe','cmalphabe','cm_prim','cm_coll','cm_secon','cm_univ','cscm','nbpiece','deptot','region','coeffmen',\n",
        "              'ident','trmo','deppc'],1,inplace=True)"
      ],
      "metadata": {
        "id": "P6njBM40UM7Q"
      },
      "execution_count": null,
      "outputs": []
    },
    {
      "cell_type": "code",
      "source": [
        "last_column = dataset.pop('pauvre') \n",
        "dataset.insert(8, 'pauvre', last_column) \n",
        "dataset.shape"
      ],
      "metadata": {
        "id": "-DAjvTZ3XnWD",
        "colab": {
          "base_uri": "https://localhost:8080/"
        },
        "outputId": "44d87d18-9e7e-44af-d815-10cda00f40d1"
      },
      "execution_count": null,
      "outputs": [
        {
          "output_type": "execute_result",
          "data": {
            "text/plain": [
              "(4880, 9)"
            ]
          },
          "metadata": {},
          "execution_count": 16
        }
      ]
    },
    {
      "cell_type": "code",
      "source": [
        "X = dataset.iloc[:, :-1].values\n",
        "y = dataset.iloc[:, -1].values"
      ],
      "metadata": {
        "id": "0LnltwBjP4Z0"
      },
      "execution_count": null,
      "outputs": []
    },
    {
      "cell_type": "code",
      "source": [
        "print(X)"
      ],
      "metadata": {
        "id": "FBpssQpoEJzy",
        "colab": {
          "base_uri": "https://localhost:8080/"
        },
        "outputId": "de08ab42-e7e5-4b92-fd63-a098cbe84f89"
      },
      "execution_count": null,
      "outputs": [
        {
          "output_type": "stream",
          "name": "stdout",
          "text": [
            "[[ 1  5  1 ...  1  1  3]\n",
            " [ 1  6  1 ...  1  1  3]\n",
            " [ 1  4  1 ...  1  1  3]\n",
            " ...\n",
            " [ 2  9  1 ...  1  6  1]\n",
            " [ 2 13  1 ...  1  6  1]\n",
            " [ 2  5  1 ...  1  6  7]]\n"
          ]
        }
      ]
    },
    {
      "cell_type": "code",
      "source": [
        "print(y)"
      ],
      "metadata": {
        "id": "wUvzg-5mEUjh",
        "colab": {
          "base_uri": "https://localhost:8080/"
        },
        "outputId": "90f36b72-4140-4c9e-f826-0d09c772c5c7"
      },
      "execution_count": null,
      "outputs": [
        {
          "output_type": "stream",
          "name": "stdout",
          "text": [
            "[2 2 2 ... 2 2 2]\n"
          ]
        }
      ]
    },
    {
      "cell_type": "markdown",
      "metadata": {
        "id": "nhfKXNxlSabC"
      },
      "source": [
        "## Splitting the dataset into the Training set and Test set \n",
        "\n"
      ]
    },
    {
      "cell_type": "code",
      "metadata": {
        "id": "c93k7ipkSexq",
        "colab": {
          "base_uri": "https://localhost:8080/"
        },
        "outputId": "857f1781-b949-4a16-8fa1-44f35a3144fd"
      },
      "source": [
        "from sklearn.model_selection import train_test_split\n",
        "X_train, X_test, y_train, y_test = train_test_split(X, y, test_size = 0.2, random_state = 0)\n",
        "print(X_train)"
      ],
      "execution_count": null,
      "outputs": [
        {
          "output_type": "stream",
          "name": "stdout",
          "text": [
            "[[1 8 1 ... 1 3 3]\n",
            " [1 5 1 ... 1 0 3]\n",
            " [1 3 1 ... 1 2 1]\n",
            " ...\n",
            " [1 4 1 ... 1 3 1]\n",
            " [1 4 0 ... 1 3 1]\n",
            " [1 4 1 ... 1 2 1]]\n"
          ]
        }
      ]
    },
    {
      "cell_type": "code",
      "source": [
        "print(X_train)"
      ],
      "metadata": {
        "id": "GvzuaaH_DNDt",
        "colab": {
          "base_uri": "https://localhost:8080/"
        },
        "outputId": "020cee4a-ebf0-4f47-86a9-c24286c37d89"
      },
      "execution_count": null,
      "outputs": [
        {
          "output_type": "stream",
          "name": "stdout",
          "text": [
            "[[1 8 1 ... 1 3 3]\n",
            " [1 5 1 ... 1 0 3]\n",
            " [1 3 1 ... 1 2 1]\n",
            " ...\n",
            " [1 4 1 ... 1 3 1]\n",
            " [1 4 0 ... 1 3 1]\n",
            " [1 4 1 ... 1 2 1]]\n"
          ]
        }
      ]
    },
    {
      "cell_type": "markdown",
      "metadata": {
        "id": "AhSpdQWeSsFh"
      },
      "source": [
        "## Feature Scaling (misesà échelles)"
      ]
    },
    {
      "cell_type": "code",
      "metadata": {
        "id": "5hwuVddlSwVi"
      },
      "source": [
        "from sklearn.preprocessing import StandardScaler\n",
        "sc = StandardScaler()\n",
        "X_train = sc.fit_transform(X_train)\n",
        "X_test = sc.transform(X_test)"
      ],
      "execution_count": null,
      "outputs": []
    },
    {
      "cell_type": "code",
      "source": [
        "print(X_train)"
      ],
      "metadata": {
        "colab": {
          "base_uri": "https://localhost:8080/"
        },
        "id": "0lGYaLIb1GiT",
        "outputId": "fc43bb0c-f3f5-41bd-b80d-7a684e3dd2aa"
      },
      "execution_count": null,
      "outputs": [
        {
          "output_type": "stream",
          "name": "stdout",
          "text": [
            "[[-0.87687917  0.72869297  0.45434314 ...  0.44693864 -0.65699767\n",
            "   0.39598906]\n",
            " [-0.87687917 -0.32820512  0.45434314 ...  0.44693864 -2.17770057\n",
            "   0.39598906]\n",
            " [-0.87687917 -1.03280385  0.45434314 ...  0.44693864 -1.16389863\n",
            "  -0.54954079]\n",
            " ...\n",
            " [-0.87687917 -0.68050448  0.45434314 ...  0.44693864 -0.65699767\n",
            "  -0.54954079]\n",
            " [-0.87687917 -0.68050448 -2.20097964 ...  0.44693864 -0.65699767\n",
            "  -0.54954079]\n",
            " [-0.87687917 -0.68050448  0.45434314 ...  0.44693864 -1.16389863\n",
            "  -0.54954079]]\n"
          ]
        }
      ]
    },
    {
      "cell_type": "code",
      "source": [
        "print(X_test)"
      ],
      "metadata": {
        "colab": {
          "base_uri": "https://localhost:8080/"
        },
        "id": "QsnS8EZt1LK3",
        "outputId": "9aaa446d-f145-4a61-badf-2a43650cc7ee"
      },
      "execution_count": null,
      "outputs": [
        {
          "output_type": "stream",
          "name": "stdout",
          "text": [
            "[[ 1.14040797 -1.03280385  0.45434314 ...  0.44693864  1.3706062\n",
            "  -0.54954079]\n",
            " [ 1.14040797  1.4332917   0.45434314 ...  0.44693864  0.86370523\n",
            "  -0.54954079]\n",
            " [-0.87687917 -1.03280385  0.45434314 ...  0.44693864 -0.65699767\n",
            "  -0.54954079]\n",
            " ...\n",
            " [-0.87687917  1.08099233 -2.20097964 ... -2.2374436  -0.65699767\n",
            "  -0.54954079]\n",
            " [ 1.14040797  0.02409424  0.45434314 ...  0.44693864  0.86370523\n",
            "  -0.54954079]\n",
            " [ 1.14040797  0.37639361  0.45434314 ...  0.44693864  0.86370523\n",
            "  -0.54954079]]\n"
          ]
        }
      ]
    },
    {
      "cell_type": "markdown",
      "metadata": {
        "id": "DXh8oVSITIc6"
      },
      "source": [
        "## Training the Logistic Regression model on the Training set"
      ]
    },
    {
      "cell_type": "code",
      "metadata": {
        "id": "XgHCShVyTOYY",
        "colab": {
          "base_uri": "https://localhost:8080/"
        },
        "outputId": "08a4e271-76ed-4641-ed44-217446ba6651"
      },
      "source": [
        "from sklearn.linear_model import LogisticRegression\n",
        "classifier = LogisticRegression(random_state = 0)\n",
        "classifier.fit(X_train, y_train)\n",
        "#classifier.get_params()\n",
        "coef = classifier.fit(X_train, y_train).coef_\n",
        "intecept = classifier.fit(X_train, y_train).intercept_\n",
        "print(coef, intecept)"
      ],
      "execution_count": null,
      "outputs": [
        {
          "output_type": "stream",
          "name": "stdout",
          "text": [
            "[[-0.39603285  0.04935053 -0.00444662  0.0105353  -0.03410736 -0.07131528\n",
            "  -0.13279128 -0.04390118]] [1.83091783]\n"
          ]
        }
      ]
    },
    {
      "cell_type": "markdown",
      "metadata": {
        "id": "qb_vcgm3qZKW"
      },
      "source": [
        "## Predicting the Test set results"
      ]
    },
    {
      "cell_type": "code",
      "metadata": {
        "id": "pXgA6CzlqbCl",
        "colab": {
          "base_uri": "https://localhost:8080/"
        },
        "outputId": "9e849939-d216-4aee-b957-7a663d721163"
      },
      "source": [
        "y_pred = classifier.predict_proba(X_test)\n",
        "print(y_pred)\n",
        "y_pred_df = pd.DataFrame(y_pred[: ,1])\n",
        "#print(y_pred_df)\n",
        "y_test_pred = y_pred_df.applymap(lambda x:2 if x>=0.5 else 1)\n",
        "#print(np.concatenate((y_test_pred, y_test.reshape(len(y_test),1)),1))\n",
        "print(type(y_test))\n",
        "\n",
        "from sklearn.metrics import confusion_matrix, accuracy_score, roc_auc_score\n",
        "cm = confusion_matrix(y_test, y_test_pred)\n",
        "print(cm)\n",
        "print(accuracy_score(y_test, y_test_pred),\"c-à-d :\",accuracy_score(y_test, y_test_pred)*100,\"%\")\n",
        "#print(\"acc_test\",accuracy_score(y_test,y_pred))"
      ],
      "execution_count": null,
      "outputs": [
        {
          "output_type": "stream",
          "name": "stdout",
          "text": [
            "[[0.24856007 0.75143993]\n",
            " [0.21396534 0.78603466]\n",
            " [0.09358075 0.90641925]\n",
            " ...\n",
            " [0.07142239 0.92857761]\n",
            " [0.22769395 0.77230605]\n",
            " [0.22236088 0.77763912]]\n",
            "<class 'numpy.ndarray'>\n",
            "[[  0 132]\n",
            " [  0 844]]\n",
            "0.8647540983606558 c-à-d : 86.47540983606558 %\n"
          ]
        }
      ]
    }
  ]
}